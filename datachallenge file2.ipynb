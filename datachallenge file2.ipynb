{
 "cells": [
  {
   "cell_type": "markdown",
   "id": "586f84f4-b7f9-45b2-8ec6-37d49d416875",
   "metadata": {},
   "source": [
    "#### Basic syntax, variables, simple data types"
   ]
  },
  {
   "cell_type": "code",
   "execution_count": 2,
   "id": "5b6c5b3e-6b9e-4201-8a8b-c0178f084c2d",
   "metadata": {},
   "outputs": [
    {
     "name": "stdout",
     "output_type": "stream",
     "text": [
      "Hello, my name is Chizoba\n"
     ]
    }
   ],
   "source": [
    "# A short script to introduce myself\n",
    "\n",
    "Var1 = \"Hello, my name is Chizoba\"\n",
    "print(Var1)"
   ]
  },
  {
   "cell_type": "code",
   "execution_count": 3,
   "id": "c3dd076a-e687-49f4-acb6-4c179260a85d",
   "metadata": {},
   "outputs": [
    {
     "data": {
      "text/plain": [
       "str"
      ]
     },
     "execution_count": 3,
     "metadata": {},
     "output_type": "execute_result"
    }
   ],
   "source": [
    "type(Var1)"
   ]
  },
  {
   "cell_type": "code",
   "execution_count": 7,
   "id": "2867d2a1-9caa-405a-9781-4aa96bc90879",
   "metadata": {},
   "outputs": [
    {
     "name": "stdout",
     "output_type": "stream",
     "text": [
      "[2, 6, 4]\n"
     ]
    }
   ],
   "source": [
    "Fav_num = [2, 6, 4]\n",
    "print(Fav_num)"
   ]
  },
  {
   "cell_type": "code",
   "execution_count": 8,
   "id": "c0055962-3a31-4940-9e7e-16c3928e6eef",
   "metadata": {},
   "outputs": [
    {
     "data": {
      "text/plain": [
       "list"
      ]
     },
     "execution_count": 8,
     "metadata": {},
     "output_type": "execute_result"
    }
   ],
   "source": [
    "type(Fav_num)"
   ]
  },
  {
   "cell_type": "code",
   "execution_count": 10,
   "id": "acbd4dae-cdb0-47b0-95a0-18d081a42bf0",
   "metadata": {},
   "outputs": [
    {
     "name": "stdout",
     "output_type": "stream",
     "text": [
      "1.67\n"
     ]
    }
   ],
   "source": [
    "height = 1.67\n",
    "\n",
    "print(height)"
   ]
  },
  {
   "cell_type": "code",
   "execution_count": 11,
   "id": "d3c58847-2b1d-4c8c-ad7b-b73f9dd61d2b",
   "metadata": {},
   "outputs": [
    {
     "data": {
      "text/plain": [
       "float"
      ]
     },
     "execution_count": 11,
     "metadata": {},
     "output_type": "execute_result"
    }
   ],
   "source": [
    "type(height)"
   ]
  },
  {
   "cell_type": "markdown",
   "id": "b57ff257-7c69-4cef-97c7-e20495415824",
   "metadata": {},
   "source": [
    "### Data types"
   ]
  },
  {
   "cell_type": "code",
   "execution_count": 15,
   "id": "c043a64e-b5fb-4dff-84b9-022fe9198a80",
   "metadata": {},
   "outputs": [
    {
     "name": "stdout",
     "output_type": "stream",
     "text": [
      "hello\n"
     ]
    }
   ],
   "source": [
    "# strings are enclosed in quotes\n",
    "greeting = 'hello'\n",
    "print(greeting)"
   ]
  },
  {
   "cell_type": "code",
   "execution_count": 17,
   "id": "88751ea6-0d1f-4adb-aa22-0c58be4e2f69",
   "metadata": {},
   "outputs": [
    {
     "data": {
      "text/plain": [
       "(1, 2, 3, 4, 5, 6)"
      ]
     },
     "execution_count": 17,
     "metadata": {},
     "output_type": "execute_result"
    }
   ],
   "source": [
    "# integers are numeric data without fraction\n",
    "num = 1, 2, 3, 4, 5, 6\n",
    "num"
   ]
  },
  {
   "cell_type": "code",
   "execution_count": 22,
   "id": "e067f735-c674-497d-b222-edbbf3922503",
   "metadata": {},
   "outputs": [
    {
     "name": "stdout",
     "output_type": "stream",
     "text": [
      "7.5\n"
     ]
    }
   ],
   "source": [
    "# float are decimal numbers\n",
    "f1 = 2.5\n",
    "f2 = 5.0\n",
    "x = f1 + f2\n",
    "print(x)"
   ]
  },
  {
   "cell_type": "code",
   "execution_count": 25,
   "id": "d34f3544-99c1-4371-9ec0-aa7fc2d94a02",
   "metadata": {},
   "outputs": [
    {
     "name": "stdout",
     "output_type": "stream",
     "text": [
      "[2, 4]\n"
     ]
    }
   ],
   "source": [
    "#list is a sequence of elements in square brackets\n",
    "x = [2, 4, 6, 8, 10]\n",
    "# indexing\n",
    "print(x[: 2])"
   ]
  },
  {
   "cell_type": "code",
   "execution_count": 26,
   "id": "7e156fae-13cb-45c6-a9a4-cb67fe556696",
   "metadata": {},
   "outputs": [
    {
     "data": {
      "text/plain": [
       "False"
      ]
     },
     "execution_count": 26,
     "metadata": {},
     "output_type": "execute_result"
    }
   ],
   "source": [
    "# boolean\n",
    "f1 > f2"
   ]
  },
  {
   "cell_type": "markdown",
   "id": "5dafa99e-9feb-4d49-8a16-20e6a123ee00",
   "metadata": {},
   "source": [
    "### string operations"
   ]
  },
  {
   "cell_type": "code",
   "execution_count": 10,
   "id": "0e70d3ac-9c25-4cec-a31a-57a015b0b0be",
   "metadata": {},
   "outputs": [
    {
     "name": "stdout",
     "output_type": "stream",
     "text": [
      "Chizoba unaeze\n"
     ]
    }
   ],
   "source": [
    "# concatenation\n",
    "first = 'Chizoba'\n",
    "last = 'unaeze'\n",
    "\n",
    "first_last = first + ' ' + last\n",
    "print(first_last)"
   ]
  },
  {
   "cell_type": "code",
   "execution_count": 12,
   "id": "d0e6c400-b62a-4a0b-8a5c-cdb2d008df39",
   "metadata": {},
   "outputs": [
    {
     "name": "stdout",
     "output_type": "stream",
     "text": [
      "zoba\n"
     ]
    }
   ],
   "source": [
    "# slicing: last four letters\n",
    "print(first[3:7])"
   ]
  },
  {
   "cell_type": "code",
   "execution_count": 20,
   "id": "92ce980e-0925-40f1-b2eb-088fc7337217",
   "metadata": {},
   "outputs": [
    {
     "data": {
      "text/plain": [
       "'Hello, Chizzy'"
      ]
     },
     "execution_count": 20,
     "metadata": {},
     "output_type": "execute_result"
    }
   ],
   "source": [
    "# formatting\n",
    "me = 'Chizzy'\n",
    "f'Hello, {me}'"
   ]
  },
  {
   "cell_type": "code",
   "execution_count": 23,
   "id": "5e91d42e-fe8c-4a5a-8888-618564bce6ac",
   "metadata": {},
   "outputs": [
    {
     "data": {
      "text/plain": [
       "3"
      ]
     },
     "execution_count": 23,
     "metadata": {},
     "output_type": "execute_result"
    }
   ],
   "source": [
    "# find\n",
    "locate = last.find('eze')\n",
    "locate"
   ]
  },
  {
   "cell_type": "code",
   "execution_count": null,
   "id": "a7eee16d-fb28-473f-a972-5d3f2511fd1d",
   "metadata": {},
   "outputs": [],
   "source": [
    "# replace\n",
    "x1 = last.replace('una', ' oba')"
   ]
  },
  {
   "cell_type": "code",
   "execution_count": 25,
   "id": "c738f98d-608d-46d3-8440-45cf576660cc",
   "metadata": {},
   "outputs": [
    {
     "data": {
      "text/plain": [
       "' obaeze'"
      ]
     },
     "execution_count": 25,
     "metadata": {},
     "output_type": "execute_result"
    }
   ],
   "source": [
    "x1"
   ]
  },
  {
   "cell_type": "markdown",
   "id": "12192802-64f5-4b52-b1b6-b72b0494da1c",
   "metadata": {},
   "source": [
    "### Data Structures"
   ]
  },
  {
   "cell_type": "code",
   "execution_count": 28,
   "id": "9564fcf7-52de-422b-b46e-481b93cb3675",
   "metadata": {},
   "outputs": [
    {
     "data": {
      "text/plain": [
       "['abuja', 'lagos', 'portharcourt', 'ibadan']"
      ]
     },
     "execution_count": 28,
     "metadata": {},
     "output_type": "execute_result"
    }
   ],
   "source": [
    "# Lists are multiple elements enclosed in a square brackets[]\n",
    "\n",
    "cities = ['abuja', 'lagos', 'portharcourt', 'ibadan']\n",
    "cities"
   ]
  },
  {
   "cell_type": "code",
   "execution_count": 33,
   "id": "61f60004-3650-4b8d-8bda-1f05fae07b89",
   "metadata": {},
   "outputs": [
    {
     "data": {
      "text/plain": [
       "('chizoba', 'blessing', 'edith', 'sefiya')"
      ]
     },
     "execution_count": 33,
     "metadata": {},
     "output_type": "execute_result"
    }
   ],
   "source": [
    "# tuples are immutable elements enclosed in a curly bracket{}\n",
    "\n",
    "name = ('chizoba', 'blessing', 'edith', 'sefiya')\n",
    "\n",
    "name"
   ]
  },
  {
   "cell_type": "code",
   "execution_count": 54,
   "id": "02308708-b7e9-4015-be09-927d7c3d4610",
   "metadata": {},
   "outputs": [
    {
     "data": {
      "text/plain": [
       "'abuja'"
      ]
     },
     "execution_count": 54,
     "metadata": {},
     "output_type": "execute_result"
    }
   ],
   "source": [
    "# dictionary is a collection of unordered key-value pairs\n",
    "dict = {'nigeria': 'abuja', 'usa': 'washington', 'ghana': 'accra', 'sweden': 'stockholm'}\n",
    "dict['nigeria']"
   ]
  },
  {
   "cell_type": "code",
   "execution_count": 55,
   "id": "c9312148-c59f-4dc7-acbf-65e1ab67430b",
   "metadata": {},
   "outputs": [
    {
     "data": {
      "text/plain": [
       "dict"
      ]
     },
     "execution_count": 55,
     "metadata": {},
     "output_type": "execute_result"
    }
   ],
   "source": [
    "type(dict)"
   ]
  },
  {
   "cell_type": "code",
   "execution_count": 57,
   "id": "4f4d4f05-f5f6-4a55-ae49-24b86d7f29f3",
   "metadata": {},
   "outputs": [
    {
     "data": {
      "text/plain": [
       "{1, 2, 3, 4, 6, 9}"
      ]
     },
     "execution_count": 57,
     "metadata": {},
     "output_type": "execute_result"
    }
   ],
   "source": [
    "# set is a collection of unordered unique elements enclosed in a curly brackets\n",
    "nums = {2, 4, 6, 3, 1, 9}\n",
    "nums"
   ]
  },
  {
   "cell_type": "markdown",
   "id": "6dbf45c6-aeec-4434-98ea-1a262616bbd4",
   "metadata": {},
   "source": [
    "### Loops and Decision"
   ]
  },
  {
   "cell_type": "code",
   "execution_count": null,
   "id": "f3a098b5-4921-4162-9977-0379f887e05e",
   "metadata": {},
   "outputs": [],
   "source": []
  },
  {
   "cell_type": "code",
   "execution_count": null,
   "id": "ee544a0c-65fa-41c2-a82a-6f3511a3294d",
   "metadata": {},
   "outputs": [],
   "source": []
  },
  {
   "cell_type": "code",
   "execution_count": null,
   "id": "0297c6f8-3284-4275-b9e3-fb92c229f609",
   "metadata": {},
   "outputs": [],
   "source": []
  }
 ],
 "metadata": {
  "kernelspec": {
   "display_name": "Python 3 (ipykernel)",
   "language": "python",
   "name": "python3"
  },
  "language_info": {
   "codemirror_mode": {
    "name": "ipython",
    "version": 3
   },
   "file_extension": ".py",
   "mimetype": "text/x-python",
   "name": "python",
   "nbconvert_exporter": "python",
   "pygments_lexer": "ipython3",
   "version": "3.11.7"
  }
 },
 "nbformat": 4,
 "nbformat_minor": 5
}
