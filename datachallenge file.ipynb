{
 "cells": [
  {
   "cell_type": "code",
   "execution_count": 1,
   "id": "002f61a2-696a-4c02-a8b4-6308fc1ba867",
   "metadata": {},
   "outputs": [
    {
     "data": {
      "text/plain": [
       "6"
      ]
     },
     "execution_count": 1,
     "metadata": {},
     "output_type": "execute_result"
    }
   ],
   "source": [
    "x=2\n",
    "x1=3\n",
    "x*x1"
   ]
  },
  {
   "cell_type": "markdown",
   "id": "85401af0-ff89-43b8-8a34-300b97ab06c4",
   "metadata": {},
   "source": [
    "### Loops and Decision"
   ]
  },
  {
   "cell_type": "code",
   "execution_count": 4,
   "id": "0e9971ba-9f0d-41c2-8b8e-f3591bf1332d",
   "metadata": {},
   "outputs": [
    {
     "name": "stdout",
     "output_type": "stream",
     "text": [
      "chizoba, nice to meet you\n",
      "amanda, nice to meet you\n",
      "zara, nice to meet you\n",
      "uche, nice to meet you\n",
      "charles, nice to meet you\n"
     ]
    }
   ],
   "source": [
    "# for loop is used when the statement is true to repeat execution\n",
    "names = ['chizoba', 'amanda', 'zara', 'uche', 'charles']\n",
    "for i in names:\n",
    "    print(f'{i}, nice to meet you')"
   ]
  },
  {
   "cell_type": "code",
   "execution_count": 15,
   "id": "374e0176-7fa5-4ecd-9964-2b3579c64796",
   "metadata": {},
   "outputs": [
    {
     "name": "stdout",
     "output_type": "stream",
     "text": [
      "new price\n"
     ]
    }
   ],
   "source": [
    "# while loop is used over a sequence for iteration\n",
    "price = 10\n",
    "while price < 10:\n",
    "    price1 = price * 0.2\n",
    "print('new price')"
   ]
  },
  {
   "cell_type": "code",
   "execution_count": 5,
   "id": "1a9197c0-3afc-4e71-938e-77d79a5de251",
   "metadata": {},
   "outputs": [],
   "source": [
    "sales = [20, 40, 15, 10, 5, 2]"
   ]
  },
  {
   "cell_type": "code",
   "execution_count": 30,
   "id": "5d5cbc62-3f8c-451c-9af1-90d1fa7831df",
   "metadata": {},
   "outputs": [
    {
     "name": "stdout",
     "output_type": "stream",
     "text": [
      "high sale\n",
      "high sale\n",
      "low sale\n",
      "low sale\n",
      "very low sale\n",
      "poor sale\n"
     ]
    }
   ],
   "source": [
    "for i in sales:\n",
    "    if i >= 20:\n",
    "        print(f'high sale')\n",
    "\n",
    "    elif i >= 10:\n",
    "        print('low sale')\n",
    "\n",
    "    elif i == 5:\n",
    "        print('very low sale')\n",
    "\n",
    "    else:\n",
    "        print('poor sale')"
   ]
  },
  {
   "cell_type": "markdown",
   "id": "170da3a1-dfd3-4e22-abca-fb4002cca5ee",
   "metadata": {},
   "source": [
    "### Error handling"
   ]
  },
  {
   "cell_type": "code",
   "execution_count": 46,
   "id": "5be2b3b8-f075-4f34-a647-ac56415ec708",
   "metadata": {},
   "outputs": [
    {
     "name": "stdout",
     "output_type": "stream",
     "text": [
      "wrong format\n"
     ]
    }
   ],
   "source": [
    "# try and except statement is used when error is anticipated\n",
    "\n",
    "try:\n",
    "    if score == hello:\n",
    "        print(yes)\n",
    "\n",
    "except:\n",
    "    print('wrong format')"
   ]
  },
  {
   "cell_type": "code",
   "execution_count": 59,
   "id": "9189c32b-529b-4945-95ac-f5579586d548",
   "metadata": {},
   "outputs": [
    {
     "name": "stdout",
     "output_type": "stream",
     "text": [
      "false\n"
     ]
    }
   ],
   "source": [
    " x = [1, 2, 3, 4, 5, 6, 7, 8, 9, 10]\n",
    "try:\n",
    "    x1 = x.str\n",
    "    print('true')\n",
    "\n",
    "except:\n",
    "    print('false')"
   ]
  },
  {
   "cell_type": "code",
   "execution_count": 61,
   "id": "d9c0127d-1a49-4f1f-8557-f940cc9c7146",
   "metadata": {},
   "outputs": [
    {
     "name": "stdout",
     "output_type": "stream",
     "text": [
      "invalid input\n"
     ]
    }
   ],
   "source": [
    "try:\n",
    "    range(10)\n",
    "    print(range(10)/0)\n",
    "\n",
    "except:\n",
    "    print('invalid input')"
   ]
  },
  {
   "cell_type": "markdown",
   "id": "5b360011-a503-42d0-8f98-c906325485b8",
   "metadata": {},
   "source": [
    "### Functions in python"
   ]
  },
  {
   "cell_type": "code",
   "execution_count": 15,
   "id": "af5a1c9d-433b-4bc9-88e8-6aa9f8edab21",
   "metadata": {},
   "outputs": [
    {
     "name": "stdout",
     "output_type": "stream",
     "text": [
      "[20, 40, 15, 10, 5, 2, 5, 10, 15, 20, 25, 30]\n"
     ]
    }
   ],
   "source": [
    "#defining a function to add the number of sales\n",
    "def add_nums(sales, sales1):\n",
    "    return sales + sales1\n",
    "print(add_nums(sales, sales1))"
   ]
  },
  {
   "cell_type": "code",
   "execution_count": 57,
   "id": "f6222033-987b-476b-85e0-7f90feae6b03",
   "metadata": {},
   "outputs": [
    {
     "name": "stdout",
     "output_type": "stream",
     "text": [
      "Welcome, chizoba\n",
      "Welcome, uche\n"
     ]
    }
   ],
   "source": [
    "def greeting(names):\n",
    "    return 'Welcome,'+ ' ' + names\n",
    "\n",
    "print (greeting('chizoba'))\n",
    "print(greeting('uche'))"
   ]
  },
  {
   "cell_type": "code",
   "execution_count": 62,
   "id": "915bcf3b-5af9-41bb-be99-3d8020d7aae4",
   "metadata": {},
   "outputs": [],
   "source": [
    "sales1 = [5, 10, 15, 20, 25, 30]"
   ]
  },
  {
   "cell_type": "markdown",
   "id": "6659b621-150a-4e4a-98c5-47f872d09013",
   "metadata": {},
   "source": [
    "### File handling and data output/input"
   ]
  },
  {
   "cell_type": "code",
   "execution_count": 2,
   "id": "7be3b052-917d-4f8e-b0b4-52c15d79ab04",
   "metadata": {},
   "outputs": [
    {
     "data": {
      "text/html": [
       "<div>\n",
       "<style scoped>\n",
       "    .dataframe tbody tr th:only-of-type {\n",
       "        vertical-align: middle;\n",
       "    }\n",
       "\n",
       "    .dataframe tbody tr th {\n",
       "        vertical-align: top;\n",
       "    }\n",
       "\n",
       "    .dataframe thead th {\n",
       "        text-align: right;\n",
       "    }\n",
       "</style>\n",
       "<table border=\"1\" class=\"dataframe\">\n",
       "  <thead>\n",
       "    <tr style=\"text-align: right;\">\n",
       "      <th></th>\n",
       "      <th>orderid</th>\n",
       "      <th>order no</th>\n",
       "      <th>name</th>\n",
       "      <th>qty</th>\n",
       "      <th>amount</th>\n",
       "    </tr>\n",
       "  </thead>\n",
       "  <tbody>\n",
       "    <tr>\n",
       "      <th>0</th>\n",
       "      <td>1001</td>\n",
       "      <td>1</td>\n",
       "      <td>pat</td>\n",
       "      <td>15</td>\n",
       "      <td>50</td>\n",
       "    </tr>\n",
       "    <tr>\n",
       "      <th>1</th>\n",
       "      <td>1002</td>\n",
       "      <td>2</td>\n",
       "      <td>chris</td>\n",
       "      <td>4</td>\n",
       "      <td>10</td>\n",
       "    </tr>\n",
       "    <tr>\n",
       "      <th>2</th>\n",
       "      <td>1003</td>\n",
       "      <td>3</td>\n",
       "      <td>wema</td>\n",
       "      <td>25</td>\n",
       "      <td>85</td>\n",
       "    </tr>\n",
       "    <tr>\n",
       "      <th>3</th>\n",
       "      <td>1004</td>\n",
       "      <td>4</td>\n",
       "      <td>buchy</td>\n",
       "      <td>32</td>\n",
       "      <td>105</td>\n",
       "    </tr>\n",
       "    <tr>\n",
       "      <th>4</th>\n",
       "      <td>1005</td>\n",
       "      <td>5</td>\n",
       "      <td>sanda</td>\n",
       "      <td>12</td>\n",
       "      <td>35</td>\n",
       "    </tr>\n",
       "    <tr>\n",
       "      <th>5</th>\n",
       "      <td>1006</td>\n",
       "      <td>6</td>\n",
       "      <td>lund</td>\n",
       "      <td>6</td>\n",
       "      <td>8</td>\n",
       "    </tr>\n",
       "    <tr>\n",
       "      <th>6</th>\n",
       "      <td>1007</td>\n",
       "      <td>7</td>\n",
       "      <td>kels</td>\n",
       "      <td>9</td>\n",
       "      <td>42</td>\n",
       "    </tr>\n",
       "    <tr>\n",
       "      <th>7</th>\n",
       "      <td>1008</td>\n",
       "      <td>8</td>\n",
       "      <td>dona</td>\n",
       "      <td>27</td>\n",
       "      <td>92</td>\n",
       "    </tr>\n",
       "  </tbody>\n",
       "</table>\n",
       "</div>"
      ],
      "text/plain": [
       "   orderid  order no   name  qty  amount\n",
       "0     1001         1    pat   15      50\n",
       "1     1002         2  chris    4      10\n",
       "2     1003         3   wema   25      85\n",
       "3     1004         4  buchy   32     105\n",
       "4     1005         5  sanda   12      35\n",
       "5     1006         6   lund    6       8\n",
       "6     1007         7   kels    9      42\n",
       "7     1008         8   dona   27      92"
      ]
     },
     "execution_count": 2,
     "metadata": {},
     "output_type": "execute_result"
    }
   ],
   "source": [
    "#Getting our file\n",
    "# First we import our libraries\n",
    "\n",
    "import numpy as np\n",
    "import pandas as pd\n",
    "\n",
    "# to read our csv file\n",
    "\n",
    "x = pd.read_csv('Book11.csv')\n",
    "x"
   ]
  },
  {
   "cell_type": "code",
   "execution_count": 78,
   "id": "f665e5a1-488a-411d-87b0-bc1d0966bccb",
   "metadata": {},
   "outputs": [
    {
     "data": {
      "text/html": [
       "<div>\n",
       "<style scoped>\n",
       "    .dataframe tbody tr th:only-of-type {\n",
       "        vertical-align: middle;\n",
       "    }\n",
       "\n",
       "    .dataframe tbody tr th {\n",
       "        vertical-align: top;\n",
       "    }\n",
       "\n",
       "    .dataframe thead th {\n",
       "        text-align: right;\n",
       "    }\n",
       "</style>\n",
       "<table border=\"1\" class=\"dataframe\">\n",
       "  <thead>\n",
       "    <tr style=\"text-align: right;\">\n",
       "      <th></th>\n",
       "      <th>orderid</th>\n",
       "      <th>order no</th>\n",
       "      <th>qty</th>\n",
       "      <th>amount</th>\n",
       "    </tr>\n",
       "  </thead>\n",
       "  <tbody>\n",
       "    <tr>\n",
       "      <th>count</th>\n",
       "      <td>8.00000</td>\n",
       "      <td>8.00000</td>\n",
       "      <td>8.000000</td>\n",
       "      <td>8.000000</td>\n",
       "    </tr>\n",
       "    <tr>\n",
       "      <th>mean</th>\n",
       "      <td>1004.50000</td>\n",
       "      <td>4.50000</td>\n",
       "      <td>16.250000</td>\n",
       "      <td>53.375000</td>\n",
       "    </tr>\n",
       "    <tr>\n",
       "      <th>std</th>\n",
       "      <td>2.44949</td>\n",
       "      <td>2.44949</td>\n",
       "      <td>10.471049</td>\n",
       "      <td>36.986243</td>\n",
       "    </tr>\n",
       "    <tr>\n",
       "      <th>min</th>\n",
       "      <td>1001.00000</td>\n",
       "      <td>1.00000</td>\n",
       "      <td>4.000000</td>\n",
       "      <td>8.000000</td>\n",
       "    </tr>\n",
       "    <tr>\n",
       "      <th>25%</th>\n",
       "      <td>1002.75000</td>\n",
       "      <td>2.75000</td>\n",
       "      <td>8.250000</td>\n",
       "      <td>28.750000</td>\n",
       "    </tr>\n",
       "    <tr>\n",
       "      <th>50%</th>\n",
       "      <td>1004.50000</td>\n",
       "      <td>4.50000</td>\n",
       "      <td>13.500000</td>\n",
       "      <td>46.000000</td>\n",
       "    </tr>\n",
       "    <tr>\n",
       "      <th>75%</th>\n",
       "      <td>1006.25000</td>\n",
       "      <td>6.25000</td>\n",
       "      <td>25.500000</td>\n",
       "      <td>86.750000</td>\n",
       "    </tr>\n",
       "    <tr>\n",
       "      <th>max</th>\n",
       "      <td>1008.00000</td>\n",
       "      <td>8.00000</td>\n",
       "      <td>32.000000</td>\n",
       "      <td>105.000000</td>\n",
       "    </tr>\n",
       "  </tbody>\n",
       "</table>\n",
       "</div>"
      ],
      "text/plain": [
       "          orderid  order no        qty      amount\n",
       "count     8.00000   8.00000   8.000000    8.000000\n",
       "mean   1004.50000   4.50000  16.250000   53.375000\n",
       "std       2.44949   2.44949  10.471049   36.986243\n",
       "min    1001.00000   1.00000   4.000000    8.000000\n",
       "25%    1002.75000   2.75000   8.250000   28.750000\n",
       "50%    1004.50000   4.50000  13.500000   46.000000\n",
       "75%    1006.25000   6.25000  25.500000   86.750000\n",
       "max    1008.00000   8.00000  32.000000  105.000000"
      ]
     },
     "execution_count": 78,
     "metadata": {},
     "output_type": "execute_result"
    }
   ],
   "source": [
    "x.describe()"
   ]
  },
  {
   "cell_type": "code",
   "execution_count": 79,
   "id": "8b0449a5-0aae-417b-b1e5-c07e19c0e6eb",
   "metadata": {},
   "outputs": [
    {
     "data": {
      "text/plain": [
       "<bound method DataFrame.info of    orderid  order no   name  qty  amount\n",
       "0     1001         1    pat   15      50\n",
       "1     1002         2  chris    4      10\n",
       "2     1003         3   wema   25      85\n",
       "3     1004         4  buchy   32     105\n",
       "4     1005         5  sanda   12      35\n",
       "5     1006         6   lund    6       8\n",
       "6     1007         7   kels    9      42\n",
       "7     1008         8   dona   27      92>"
      ]
     },
     "execution_count": 79,
     "metadata": {},
     "output_type": "execute_result"
    }
   ],
   "source": [
    "x.info"
   ]
  },
  {
   "cell_type": "code",
   "execution_count": null,
   "id": "c908afd5-9f04-452f-bcdc-be326a737883",
   "metadata": {},
   "outputs": [],
   "source": [
    "x.to_save('httdatachallenge')"
   ]
  },
  {
   "cell_type": "markdown",
   "id": "741b5c44-0eda-4799-834c-cd366e096195",
   "metadata": {},
   "source": [
    "### Numpy operations"
   ]
  },
  {
   "cell_type": "code",
   "execution_count": 1,
   "id": "ee3f18af-de00-41ed-9b73-7102e7b78284",
   "metadata": {},
   "outputs": [],
   "source": [
    "import numpy as np"
   ]
  },
  {
   "cell_type": "code",
   "execution_count": 3,
   "id": "d1f814e1-4597-4f17-86e0-7345edf9d2a1",
   "metadata": {},
   "outputs": [],
   "source": [
    "nums = [2, 4, 6, 8, 10, 12]\n",
    "num = [1, 3, 5, 7, 9, 11]"
   ]
  },
  {
   "cell_type": "code",
   "execution_count": 4,
   "id": "23285491-f874-4dde-b304-de9ea57c23d1",
   "metadata": {},
   "outputs": [
    {
     "data": {
      "text/plain": [
       "array([ 2,  4,  6,  8, 10, 12])"
      ]
     },
     "execution_count": 4,
     "metadata": {},
     "output_type": "execute_result"
    }
   ],
   "source": [
    "# creating arrays\n",
    "np.array(nums)"
   ]
  },
  {
   "cell_type": "code",
   "execution_count": 7,
   "id": "34381698-c9e6-4053-89b3-e850eb7bf2cf",
   "metadata": {},
   "outputs": [
    {
     "data": {
      "text/plain": [
       "array([ 1,  3,  5,  7,  9, 11])"
      ]
     },
     "execution_count": 7,
     "metadata": {},
     "output_type": "execute_result"
    }
   ],
   "source": [
    "np.array(num)"
   ]
  },
  {
   "cell_type": "code",
   "execution_count": 9,
   "id": "a4589294-c383-431c-88b6-9f887287dd90",
   "metadata": {},
   "outputs": [
    {
     "name": "stdout",
     "output_type": "stream",
     "text": [
      "[ 3  7 11 15 19 23]\n"
     ]
    }
   ],
   "source": [
    "# basic arithmetic operations\n",
    "nar = np.array(nums) + np.array(num)\n",
    "print(nar)"
   ]
  },
  {
   "cell_type": "code",
   "execution_count": 11,
   "id": "3897d9a2-7002-43a1-bf4e-1e312a90ea73",
   "metadata": {},
   "outputs": [
    {
     "data": {
      "text/plain": [
       "array([1, 1, 1, 1, 1, 1])"
      ]
     },
     "execution_count": 11,
     "metadata": {},
     "output_type": "execute_result"
    }
   ],
   "source": [
    "nar2 = np.array(nums) - np.array(num)\n",
    "nar2"
   ]
  },
  {
   "cell_type": "code",
   "execution_count": 13,
   "id": "3db30493-35fc-42aa-b882-2664ba0248e3",
   "metadata": {},
   "outputs": [
    {
     "data": {
      "text/plain": [
       "array([  2,  12,  30,  56,  90, 132])"
      ]
     },
     "execution_count": 13,
     "metadata": {},
     "output_type": "execute_result"
    }
   ],
   "source": [
    "nar3 = np.array(nums) * np.array(num)\n",
    "nar3"
   ]
  },
  {
   "cell_type": "code",
   "execution_count": 14,
   "id": "7d9a59cd-0cb6-4644-ab21-8df79d59baff",
   "metadata": {},
   "outputs": [
    {
     "data": {
      "text/plain": [
       "42"
      ]
     },
     "execution_count": 14,
     "metadata": {},
     "output_type": "execute_result"
    }
   ],
   "source": [
    "# Aggregation function\n",
    "np.sum(nums)"
   ]
  },
  {
   "cell_type": "code",
   "execution_count": 15,
   "id": "f2e4a15f-c2dc-43ba-b30a-9f1c3bde4927",
   "metadata": {},
   "outputs": [
    {
     "data": {
      "text/plain": [
       "7.0"
      ]
     },
     "execution_count": 15,
     "metadata": {},
     "output_type": "execute_result"
    }
   ],
   "source": [
    "np.mean(nums)"
   ]
  },
  {
   "cell_type": "code",
   "execution_count": 16,
   "id": "446df5fe-68ce-483c-ac8c-473f7e6288cd",
   "metadata": {},
   "outputs": [
    {
     "data": {
      "text/plain": [
       "12"
      ]
     },
     "execution_count": 16,
     "metadata": {},
     "output_type": "execute_result"
    }
   ],
   "source": [
    "np.max(nums)"
   ]
  },
  {
   "cell_type": "code",
   "execution_count": 17,
   "id": "b6c9d144-0e45-446d-860d-7e826c0883c9",
   "metadata": {},
   "outputs": [
    {
     "data": {
      "text/plain": [
       "6"
      ]
     },
     "execution_count": 17,
     "metadata": {},
     "output_type": "execute_result"
    }
   ],
   "source": [
    "np.size(nums)"
   ]
  },
  {
   "cell_type": "code",
   "execution_count": 18,
   "id": "7cb50edb-f1a1-4305-8add-d2fa1925fdf9",
   "metadata": {},
   "outputs": [
    {
     "data": {
      "text/plain": [
       "2"
      ]
     },
     "execution_count": 18,
     "metadata": {},
     "output_type": "execute_result"
    }
   ],
   "source": [
    "np.min(nums)"
   ]
  },
  {
   "cell_type": "markdown",
   "id": "0239866a-87a9-459c-96bb-f15541d2b223",
   "metadata": {},
   "source": [
    "### Numpy boolean indexing"
   ]
  },
  {
   "cell_type": "code",
   "execution_count": 24,
   "id": "82fec068-36e5-4b0a-aa43-b4d7466a3967",
   "metadata": {},
   "outputs": [
    {
     "data": {
      "text/plain": [
       "array([False, False, False, False, False, False])"
      ]
     },
     "execution_count": 24,
     "metadata": {},
     "output_type": "execute_result"
    }
   ],
   "source": [
    "x = np.array(nums)\n",
    "x\n",
    "x < 2"
   ]
  },
  {
   "cell_type": "code",
   "execution_count": 25,
   "id": "a248c954-91d5-4a52-9411-2ce8b6c1bfcd",
   "metadata": {},
   "outputs": [
    {
     "data": {
      "text/plain": [
       "array([False,  True,  True,  True,  True,  True])"
      ]
     },
     "execution_count": 25,
     "metadata": {},
     "output_type": "execute_result"
    }
   ],
   "source": [
    "x > 3"
   ]
  },
  {
   "cell_type": "code",
   "execution_count": 26,
   "id": "439c9719-e968-4341-9877-ab9f2a46a402",
   "metadata": {},
   "outputs": [
    {
     "data": {
      "text/plain": [
       "array([ 1,  3,  5,  7,  9, 11])"
      ]
     },
     "execution_count": 26,
     "metadata": {},
     "output_type": "execute_result"
    }
   ],
   "source": [
    "y = np.array(num)\n",
    "y"
   ]
  },
  {
   "cell_type": "code",
   "execution_count": 35,
   "id": "ebe2b336-216e-4f02-8ad4-ab61cc82b622",
   "metadata": {},
   "outputs": [
    {
     "data": {
      "text/plain": [
       "array([], dtype=int32)"
      ]
     },
     "execution_count": 35,
     "metadata": {},
     "output_type": "execute_result"
    }
   ],
   "source": [
    "# using & which means 'and' and | which means 'or'\n",
    "\n",
    "z = x[(x <4) & (x >3)]\n",
    "z"
   ]
  },
  {
   "cell_type": "code",
   "execution_count": 31,
   "id": "ddca5a26-f0ed-44ea-b0d6-7ee9b0936bd0",
   "metadata": {},
   "outputs": [
    {
     "data": {
      "text/plain": [
       "array([ 4,  6,  8, 10, 12])"
      ]
     },
     "execution_count": 31,
     "metadata": {},
     "output_type": "execute_result"
    }
   ],
   "source": [
    "z1 = x[(x <2) | (x >3)]\n",
    "z1"
   ]
  },
  {
   "cell_type": "code",
   "execution_count": 38,
   "id": "088c2ee8-7e8e-4587-a8be-39430768fc57",
   "metadata": {},
   "outputs": [
    {
     "data": {
      "text/plain": [
       "(6,)"
      ]
     },
     "execution_count": 38,
     "metadata": {},
     "output_type": "execute_result"
    }
   ],
   "source": [
    "x.shape"
   ]
  },
  {
   "cell_type": "markdown",
   "id": "5a737596-2286-4cf8-a89f-eaa71a9b9323",
   "metadata": {},
   "source": [
    "### Numpy algebra operations"
   ]
  },
  {
   "cell_type": "code",
   "execution_count": 4,
   "id": "d14931d4-4eda-4603-8455-ba274a3b4a0a",
   "metadata": {},
   "outputs": [],
   "source": [
    "list1 = [1, 3, 6, 4, 9, 7]"
   ]
  },
  {
   "cell_type": "code",
   "execution_count": 68,
   "id": "233403e4-96c2-4892-b8f8-2585b58b191a",
   "metadata": {},
   "outputs": [
    {
     "data": {
      "text/plain": [
       "array([1, 2, 3, 4])"
      ]
     },
     "execution_count": 68,
     "metadata": {},
     "output_type": "execute_result"
    }
   ],
   "source": [
    "x1 = np.array([1,2,3,4])\n",
    "x1"
   ]
  },
  {
   "cell_type": "code",
   "execution_count": 69,
   "id": "a90760ce-1187-4610-bd9c-0ff89fc021c4",
   "metadata": {},
   "outputs": [
    {
     "data": {
      "text/plain": [
       "array([5, 6, 7, 8])"
      ]
     },
     "execution_count": 69,
     "metadata": {},
     "output_type": "execute_result"
    }
   ],
   "source": [
    "x2 = np.array([5,6,7,8])\n",
    "x2"
   ]
  },
  {
   "cell_type": "code",
   "execution_count": 75,
   "id": "24783add-9f65-489e-bbb1-4f6c09f6ddf7",
   "metadata": {},
   "outputs": [
    {
     "name": "stdout",
     "output_type": "stream",
     "text": [
      "70\n"
     ]
    }
   ],
   "source": [
    "x3 = np.dot(x1, x2)\n",
    "print(x3)"
   ]
  },
  {
   "cell_type": "code",
   "execution_count": 80,
   "id": "7482791d-be52-4a29-9b34-830eb61d63e1",
   "metadata": {},
   "outputs": [
    {
     "data": {
      "text/plain": [
       "4"
      ]
     },
     "execution_count": 80,
     "metadata": {},
     "output_type": "execute_result"
    }
   ],
   "source": [
    "np.size(x1)"
   ]
  },
  {
   "cell_type": "code",
   "execution_count": 90,
   "id": "ab1857e4-9175-4215-97e0-76bd262fcc27",
   "metadata": {},
   "outputs": [
    {
     "data": {
      "text/plain": [
       "array([[1, 2, 3, 4],\n",
       "       [1, 2, 3, 4],\n",
       "       [1, 2, 3, 4]])"
      ]
     },
     "execution_count": 90,
     "metadata": {},
     "output_type": "execute_result"
    }
   ],
   "source": [
    "np.resize(x1, (3, 4))"
   ]
  },
  {
   "cell_type": "code",
   "execution_count": 97,
   "id": "86ec56e3-a8ba-4958-940e-747718b210c1",
   "metadata": {},
   "outputs": [
    {
     "data": {
      "text/plain": [
       "(4,)"
      ]
     },
     "execution_count": 97,
     "metadata": {},
     "output_type": "execute_result"
    }
   ],
   "source": [
    "np.shape(x1)"
   ]
  },
  {
   "cell_type": "code",
   "execution_count": 9,
   "id": "de646a09-9f20-40ee-a441-d6427d400e85",
   "metadata": {},
   "outputs": [
    {
     "data": {
      "text/plain": [
       "array([ 2,  4,  6,  8, 10, 12])"
      ]
     },
     "execution_count": 9,
     "metadata": {},
     "output_type": "execute_result"
    }
   ],
   "source": [
    "list2 = [2, 4, 6, 8, 10, 12]\n",
    "np.array(list2)"
   ]
  },
  {
   "cell_type": "code",
   "execution_count": 107,
   "id": "e98bb30c-ea8c-450f-9c3d-16e1503a64ac",
   "metadata": {},
   "outputs": [
    {
     "data": {
      "text/plain": [
       "array([[ 2,  4,  6],\n",
       "       [ 8, 10, 12]])"
      ]
     },
     "execution_count": 107,
     "metadata": {},
     "output_type": "execute_result"
    }
   ],
   "source": [
    "np.array(list2).reshape(2,3)"
   ]
  },
  {
   "cell_type": "markdown",
   "id": "fc9050bd-c028-40ee-b4c3-e0ffed1767ce",
   "metadata": {},
   "source": [
    "### Pandas Series"
   ]
  },
  {
   "cell_type": "code",
   "execution_count": 13,
   "id": "95d6b950-2514-414d-ac4a-754623b1801e",
   "metadata": {},
   "outputs": [
    {
     "data": {
      "text/plain": [
       "jeol       60\n",
       "jane       80\n",
       "chizzy    100\n",
       "nicole     95\n",
       "amy        98\n",
       "josh       75\n",
       "Name: class_scores, dtype: int64"
      ]
     },
     "execution_count": 13,
     "metadata": {},
     "output_type": "execute_result"
    }
   ],
   "source": [
    "#import pandas library\n",
    "import pandas as pd\n",
    "#create a pandas Series\n",
    "class_scores = pd.Series({'jeol':60,\n",
    "                          'jane':80,\n",
    "                          'chizzy':100,\n",
    "                          'nicole':95,\n",
    "                          'amy': 98,\n",
    "                          'josh':75},\n",
    "                         name = 'class_scores')\n",
    "class_scores"
   ]
  },
  {
   "cell_type": "code",
   "execution_count": 17,
   "id": "3c055151-dfff-43a9-9c45-39d49be65090",
   "metadata": {},
   "outputs": [
    {
     "data": {
      "text/plain": [
       "jane       80\n",
       "chizzy    100\n",
       "nicole     95\n",
       "amy        98\n",
       "josh       75\n",
       "Name: class_scores, dtype: int64"
      ]
     },
     "execution_count": 17,
     "metadata": {},
     "output_type": "execute_result"
    }
   ],
   "source": [
    "class_scores[class_scores>70]"
   ]
  },
  {
   "cell_type": "code",
   "execution_count": 20,
   "id": "07ba1d9c-56ef-4f85-a05d-ed2028294b83",
   "metadata": {},
   "outputs": [
    {
     "data": {
      "text/plain": [
       "chizzy    100\n",
       "nicole     95\n",
       "amy        98\n",
       "Name: class_scores, dtype: int64"
      ]
     },
     "execution_count": 20,
     "metadata": {},
     "output_type": "execute_result"
    }
   ],
   "source": [
    "class_scores[2: 5]"
   ]
  },
  {
   "cell_type": "code",
   "execution_count": 30,
   "id": "cf45f416-0dde-4058-9ce3-58d1ca434bfd",
   "metadata": {},
   "outputs": [
    {
     "data": {
      "text/plain": [
       "jeol       80\n",
       "jane       90\n",
       "chizzy    115\n",
       "nicole    135\n",
       "amy       110\n",
       "josh      105\n",
       "Name: class_scores, dtype: int64"
      ]
     },
     "execution_count": 30,
     "metadata": {},
     "output_type": "execute_result"
    }
   ],
   "source": [
    "x = (20,10, 15, 40, 12, 30)\n",
    "\n",
    "class_scores.add(x)"
   ]
  },
  {
   "cell_type": "code",
   "execution_count": 23,
   "id": "4ff0a909-e1a2-438a-b15f-1037fa6118a2",
   "metadata": {},
   "outputs": [
    {
     "data": {
      "text/plain": [
       "jeol      3.000000\n",
       "jane      8.000000\n",
       "chizzy    6.666667\n",
       "nicole    2.375000\n",
       "amy       8.166667\n",
       "josh      2.500000\n",
       "Name: class_scores, dtype: float64"
      ]
     },
     "execution_count": 23,
     "metadata": {},
     "output_type": "execute_result"
    }
   ],
   "source": [
    "class_scores/x"
   ]
  },
  {
   "cell_type": "markdown",
   "id": "7602544f-f566-442d-aed1-d6affcea0629",
   "metadata": {},
   "source": [
    "### Pandas DataFrame"
   ]
  },
  {
   "cell_type": "code",
   "execution_count": 36,
   "id": "faf4be77-eba1-4ba1-9e9f-2cbc854bc7c8",
   "metadata": {},
   "outputs": [
    {
     "data": {
      "text/plain": [
       "joel      10\n",
       "jane      12\n",
       "chizzy    45\n",
       "nicole    15\n",
       "amy       20\n",
       "josh       8\n",
       "Name: new_scores, dtype: int64"
      ]
     },
     "execution_count": 36,
     "metadata": {},
     "output_type": "execute_result"
    }
   ],
   "source": [
    "new_scores = pd.Series({'joel':10,\n",
    "               'jane': 12,\n",
    "               'chizzy':45,\n",
    "               'nicole':15,\n",
    "               'amy':20,\n",
    "               'josh': 8},\n",
    "              name = 'new_scores')\n",
    "new_scores"
   ]
  },
  {
   "cell_type": "code",
   "execution_count": 43,
   "id": "4fbf16c0-2922-4b83-b5be-e3d4e2c11369",
   "metadata": {},
   "outputs": [
    {
     "data": {
      "text/html": [
       "<div>\n",
       "<style scoped>\n",
       "    .dataframe tbody tr th:only-of-type {\n",
       "        vertical-align: middle;\n",
       "    }\n",
       "\n",
       "    .dataframe tbody tr th {\n",
       "        vertical-align: top;\n",
       "    }\n",
       "\n",
       "    .dataframe thead th {\n",
       "        text-align: right;\n",
       "    }\n",
       "</style>\n",
       "<table border=\"1\" class=\"dataframe\">\n",
       "  <thead>\n",
       "    <tr style=\"text-align: right;\">\n",
       "      <th></th>\n",
       "      <th>class_scores</th>\n",
       "      <th>new_scores</th>\n",
       "    </tr>\n",
       "  </thead>\n",
       "  <tbody>\n",
       "    <tr>\n",
       "      <th>amy</th>\n",
       "      <td>98.0</td>\n",
       "      <td>20.0</td>\n",
       "    </tr>\n",
       "    <tr>\n",
       "      <th>chizzy</th>\n",
       "      <td>100.0</td>\n",
       "      <td>45.0</td>\n",
       "    </tr>\n",
       "    <tr>\n",
       "      <th>jane</th>\n",
       "      <td>80.0</td>\n",
       "      <td>12.0</td>\n",
       "    </tr>\n",
       "    <tr>\n",
       "      <th>jeol</th>\n",
       "      <td>60.0</td>\n",
       "      <td>NaN</td>\n",
       "    </tr>\n",
       "    <tr>\n",
       "      <th>joel</th>\n",
       "      <td>NaN</td>\n",
       "      <td>10.0</td>\n",
       "    </tr>\n",
       "    <tr>\n",
       "      <th>josh</th>\n",
       "      <td>75.0</td>\n",
       "      <td>8.0</td>\n",
       "    </tr>\n",
       "    <tr>\n",
       "      <th>nicole</th>\n",
       "      <td>95.0</td>\n",
       "      <td>15.0</td>\n",
       "    </tr>\n",
       "  </tbody>\n",
       "</table>\n",
       "</div>"
      ],
      "text/plain": [
       "        class_scores  new_scores\n",
       "amy             98.0        20.0\n",
       "chizzy         100.0        45.0\n",
       "jane            80.0        12.0\n",
       "jeol            60.0         NaN\n",
       "joel             NaN        10.0\n",
       "josh            75.0         8.0\n",
       "nicole          95.0        15.0"
      ]
     },
     "execution_count": 43,
     "metadata": {},
     "output_type": "execute_result"
    }
   ],
   "source": [
    "pd.DataFrame({class_scores.name:class_scores, new_scores.name:new_scores})"
   ]
  },
  {
   "cell_type": "code",
   "execution_count": 40,
   "id": "071d7689-9459-433d-9c79-dd56cc0e83f8",
   "metadata": {},
   "outputs": [
    {
     "data": {
      "text/html": [
       "<div>\n",
       "<style scoped>\n",
       "    .dataframe tbody tr th:only-of-type {\n",
       "        vertical-align: middle;\n",
       "    }\n",
       "\n",
       "    .dataframe tbody tr th {\n",
       "        vertical-align: top;\n",
       "    }\n",
       "\n",
       "    .dataframe thead th {\n",
       "        text-align: right;\n",
       "    }\n",
       "</style>\n",
       "<table border=\"1\" class=\"dataframe\">\n",
       "  <thead>\n",
       "    <tr style=\"text-align: right;\">\n",
       "      <th></th>\n",
       "      <th>new_scores</th>\n",
       "    </tr>\n",
       "  </thead>\n",
       "  <tbody>\n",
       "    <tr>\n",
       "      <th>joel</th>\n",
       "      <td>10</td>\n",
       "    </tr>\n",
       "    <tr>\n",
       "      <th>jane</th>\n",
       "      <td>12</td>\n",
       "    </tr>\n",
       "    <tr>\n",
       "      <th>chizzy</th>\n",
       "      <td>45</td>\n",
       "    </tr>\n",
       "    <tr>\n",
       "      <th>nicole</th>\n",
       "      <td>15</td>\n",
       "    </tr>\n",
       "    <tr>\n",
       "      <th>amy</th>\n",
       "      <td>20</td>\n",
       "    </tr>\n",
       "    <tr>\n",
       "      <th>josh</th>\n",
       "      <td>8</td>\n",
       "    </tr>\n",
       "  </tbody>\n",
       "</table>\n",
       "</div>"
      ],
      "text/plain": [
       "        new_scores\n",
       "joel            10\n",
       "jane            12\n",
       "chizzy          45\n",
       "nicole          15\n",
       "amy             20\n",
       "josh             8"
      ]
     },
     "execution_count": 40,
     "metadata": {},
     "output_type": "execute_result"
    }
   ],
   "source": [
    "# selecting the first column\n",
    "\n",
    "pd.DataFrame(new_scores[0:])"
   ]
  },
  {
   "cell_type": "code",
   "execution_count": 41,
   "id": "7852b351-108a-4fb8-be7a-607f359c895e",
   "metadata": {},
   "outputs": [
    {
     "data": {
      "text/html": [
       "<div>\n",
       "<style scoped>\n",
       "    .dataframe tbody tr th:only-of-type {\n",
       "        vertical-align: middle;\n",
       "    }\n",
       "\n",
       "    .dataframe tbody tr th {\n",
       "        vertical-align: top;\n",
       "    }\n",
       "\n",
       "    .dataframe thead th {\n",
       "        text-align: right;\n",
       "    }\n",
       "</style>\n",
       "<table border=\"1\" class=\"dataframe\">\n",
       "  <thead>\n",
       "    <tr style=\"text-align: right;\">\n",
       "      <th></th>\n",
       "      <th>class_scores</th>\n",
       "    </tr>\n",
       "  </thead>\n",
       "  <tbody>\n",
       "    <tr>\n",
       "      <th>jeol</th>\n",
       "      <td>60</td>\n",
       "    </tr>\n",
       "    <tr>\n",
       "      <th>jane</th>\n",
       "      <td>80</td>\n",
       "    </tr>\n",
       "    <tr>\n",
       "      <th>chizzy</th>\n",
       "      <td>100</td>\n",
       "    </tr>\n",
       "    <tr>\n",
       "      <th>nicole</th>\n",
       "      <td>95</td>\n",
       "    </tr>\n",
       "  </tbody>\n",
       "</table>\n",
       "</div>"
      ],
      "text/plain": [
       "        class_scores\n",
       "jeol              60\n",
       "jane              80\n",
       "chizzy           100\n",
       "nicole            95"
      ]
     },
     "execution_count": 41,
     "metadata": {},
     "output_type": "execute_result"
    }
   ],
   "source": [
    "pd.DataFrame(class_scores[:4])"
   ]
  },
  {
   "cell_type": "code",
   "execution_count": 47,
   "id": "8c61c2a7-e624-4a15-a11b-5ded4bb909f4",
   "metadata": {},
   "outputs": [
    {
     "data": {
      "text/html": [
       "<div>\n",
       "<style scoped>\n",
       "    .dataframe tbody tr th:only-of-type {\n",
       "        vertical-align: middle;\n",
       "    }\n",
       "\n",
       "    .dataframe tbody tr th {\n",
       "        vertical-align: top;\n",
       "    }\n",
       "\n",
       "    .dataframe thead th {\n",
       "        text-align: right;\n",
       "    }\n",
       "</style>\n",
       "<table border=\"1\" class=\"dataframe\">\n",
       "  <thead>\n",
       "    <tr style=\"text-align: right;\">\n",
       "      <th></th>\n",
       "      <th>class_scores</th>\n",
       "      <th>new_scores</th>\n",
       "    </tr>\n",
       "  </thead>\n",
       "  <tbody>\n",
       "    <tr>\n",
       "      <th>amy</th>\n",
       "      <td>98.0</td>\n",
       "      <td>20.0</td>\n",
       "    </tr>\n",
       "    <tr>\n",
       "      <th>chizzy</th>\n",
       "      <td>100.0</td>\n",
       "      <td>45.0</td>\n",
       "    </tr>\n",
       "  </tbody>\n",
       "</table>\n",
       "</div>"
      ],
      "text/plain": [
       "        class_scores  new_scores\n",
       "amy             98.0        20.0\n",
       "chizzy         100.0        45.0"
      ]
     },
     "execution_count": 47,
     "metadata": {},
     "output_type": "execute_result"
    }
   ],
   "source": [
    "# selecting the first two rows and all the columns\n",
    "\n",
    "x = pd.DataFrame({class_scores.name:class_scores, new_scores.name:new_scores})\n",
    "\n",
    "pd.DataFrame(x[:2])"
   ]
  },
  {
   "cell_type": "markdown",
   "id": "599e8f34-6085-4bdd-98e7-eb85cc2415cd",
   "metadata": {},
   "source": [
    "### Indexing in pandas using iloc and loc"
   ]
  },
  {
   "cell_type": "code",
   "execution_count": 53,
   "id": "1f7959be-7b98-4969-b437-9449c98c0110",
   "metadata": {},
   "outputs": [
    {
     "data": {
      "text/html": [
       "<div>\n",
       "<style scoped>\n",
       "    .dataframe tbody tr th:only-of-type {\n",
       "        vertical-align: middle;\n",
       "    }\n",
       "\n",
       "    .dataframe tbody tr th {\n",
       "        vertical-align: top;\n",
       "    }\n",
       "\n",
       "    .dataframe thead th {\n",
       "        text-align: right;\n",
       "    }\n",
       "</style>\n",
       "<table border=\"1\" class=\"dataframe\">\n",
       "  <thead>\n",
       "    <tr style=\"text-align: right;\">\n",
       "      <th></th>\n",
       "      <th>class_scores</th>\n",
       "      <th>new_scores</th>\n",
       "    </tr>\n",
       "  </thead>\n",
       "  <tbody>\n",
       "    <tr>\n",
       "      <th>amy</th>\n",
       "      <td>98.0</td>\n",
       "      <td>20.0</td>\n",
       "    </tr>\n",
       "    <tr>\n",
       "      <th>chizzy</th>\n",
       "      <td>100.0</td>\n",
       "      <td>45.0</td>\n",
       "    </tr>\n",
       "  </tbody>\n",
       "</table>\n",
       "</div>"
      ],
      "text/plain": [
       "        class_scores  new_scores\n",
       "amy             98.0        20.0\n",
       "chizzy         100.0        45.0"
      ]
     },
     "execution_count": 53,
     "metadata": {},
     "output_type": "execute_result"
    }
   ],
   "source": [
    "# iloc is used for slicing integers while loc is used to slice labels\n",
    "# selecting the first two rows and two columns\n",
    "x.iloc[:2,:2]"
   ]
  },
  {
   "cell_type": "code",
   "execution_count": 61,
   "id": "ea483ba6-00ba-4e64-be46-9cc29d0b7a22",
   "metadata": {},
   "outputs": [
    {
     "data": {
      "text/plain": [
       "class_scores    75.0\n",
       "new_scores       8.0\n",
       "Name: josh, dtype: float64"
      ]
     },
     "execution_count": 61,
     "metadata": {},
     "output_type": "execute_result"
    }
   ],
   "source": [
    "#selecting the all columns and the 6th row\n",
    "\n",
    "x.loc['josh', :]"
   ]
  },
  {
   "cell_type": "code",
   "execution_count": 62,
   "id": "28504328-3b7b-4d96-93c5-be77baec67ef",
   "metadata": {},
   "outputs": [
    {
     "data": {
      "text/html": [
       "<div>\n",
       "<style scoped>\n",
       "    .dataframe tbody tr th:only-of-type {\n",
       "        vertical-align: middle;\n",
       "    }\n",
       "\n",
       "    .dataframe tbody tr th {\n",
       "        vertical-align: top;\n",
       "    }\n",
       "\n",
       "    .dataframe thead th {\n",
       "        text-align: right;\n",
       "    }\n",
       "</style>\n",
       "<table border=\"1\" class=\"dataframe\">\n",
       "  <thead>\n",
       "    <tr style=\"text-align: right;\">\n",
       "      <th></th>\n",
       "      <th>new_scores</th>\n",
       "    </tr>\n",
       "  </thead>\n",
       "  <tbody>\n",
       "    <tr>\n",
       "      <th>jane</th>\n",
       "      <td>12.0</td>\n",
       "    </tr>\n",
       "  </tbody>\n",
       "</table>\n",
       "</div>"
      ],
      "text/plain": [
       "      new_scores\n",
       "jane        12.0"
      ]
     },
     "execution_count": 62,
     "metadata": {},
     "output_type": "execute_result"
    }
   ],
   "source": [
    "# selecting the second row and column\n",
    "\n",
    "x.iloc[2:3, 1:]"
   ]
  }
 ],
 "metadata": {
  "kernelspec": {
   "display_name": "Python 3 (ipykernel)",
   "language": "python",
   "name": "python3"
  },
  "language_info": {
   "codemirror_mode": {
    "name": "ipython",
    "version": 3
   },
   "file_extension": ".py",
   "mimetype": "text/x-python",
   "name": "python",
   "nbconvert_exporter": "python",
   "pygments_lexer": "ipython3",
   "version": "3.11.7"
  }
 },
 "nbformat": 4,
 "nbformat_minor": 5
}
